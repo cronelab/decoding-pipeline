{
 "cells": [
  {
   "cell_type": "code",
   "execution_count": 1,
   "id": "6046e42e-66db-4dd1-8fdc-b32792bf089a",
   "metadata": {},
   "outputs": [],
   "source": [
    "import torch\n",
    "from torch.utils.data import Dataset\n",
    "\n",
    "import numpy as np"
   ]
  },
  {
   "cell_type": "code",
   "execution_count": 5,
   "id": "edb425b7-afcd-442f-8221-bb1109c815fe",
   "metadata": {},
   "outputs": [],
   "source": [
    "device = torch.device(\"cuda:0\" if torch.cuda.is_available() else \"cpu\")"
   ]
  },
  {
   "cell_type": "code",
   "execution_count": 6,
   "id": "117eba49-29a4-47d4-98f4-2d3c1abe7214",
   "metadata": {},
   "outputs": [
    {
     "data": {
      "text/html": [
       "<pre style=\"white-space:pre;overflow-x:auto;line-height:normal;font-family:Menlo,'DejaVu Sans Mono',consolas,'Courier New',monospace\"><span style=\"color: #008000; text-decoration-color: #008000\">'NVIDIA GeForce RTX 3090'</span>\n",
       "</pre>\n"
      ],
      "text/plain": [
       "\u001b[32m'NVIDIA GeForce RTX 3090'\u001b[0m\n"
      ]
     },
     "metadata": {},
     "output_type": "display_data"
    }
   ],
   "source": [
    "import torch\n",
    "\n",
    "torch.cuda.is_available()\n",
    "torch.cuda.device_count()\n",
    "torch.cuda.current_device()\n",
    "torch.cuda.device(0)\n",
    "\n",
    "torch.cuda.get_device_name(1)"
   ]
  },
  {
   "cell_type": "code",
   "execution_count": 7,
   "id": "53755e35-a63f-4f09-9159-9b76d70cb220",
   "metadata": {},
   "outputs": [
    {
     "data": {
      "text/html": [
       "<pre style=\"white-space:pre;overflow-x:auto;line-height:normal;font-family:Menlo,'DejaVu Sans Mono',consolas,'Courier New',monospace\"><span style=\"color: #7fbfbf; text-decoration-color: #7fbfbf\">[12/06/22 09:31:54] </span><span style=\"color: #000080; text-decoration-color: #000080\">INFO    </span> Loading data from <span style=\"color: #008000; text-decoration-color: #008000\">'center_out_model_spectrogram_indices'</span>           <a href=\"file:///home/sshah/bci-pipeline/lib/python3.8/site-packages/kedro/io/data_catalog.py\" target=\"_blank\"><span style=\"color: #7f7f7f; text-decoration-color: #7f7f7f\">data_catalog.py</span></a><span style=\"color: #7f7f7f; text-decoration-color: #7f7f7f\">:</span><a href=\"file:///home/sshah/bci-pipeline/lib/python3.8/site-packages/kedro/io/data_catalog.py#343\" target=\"_blank\"><span style=\"color: #7f7f7f; text-decoration-color: #7f7f7f\">343</span></a>\n",
       "<span style=\"color: #7fbfbf; text-decoration-color: #7fbfbf\">                    </span>         <span style=\"font-weight: bold\">(</span>PartitionedDataSet<span style=\"font-weight: bold\">)</span><span style=\"color: #808000; text-decoration-color: #808000\">...</span>                                            <span style=\"color: #7f7f7f; text-decoration-color: #7f7f7f\">                   </span>\n",
       "</pre>\n"
      ],
      "text/plain": [
       "\u001b[2;36m[12/06/22 09:31:54]\u001b[0m\u001b[2;36m \u001b[0m\u001b[34mINFO    \u001b[0m Loading data from \u001b[32m'center_out_model_spectrogram_indices'\u001b[0m           \u001b]8;id=261170;file:///home/sshah/bci-pipeline/lib/python3.8/site-packages/kedro/io/data_catalog.py\u001b\\\u001b[2mdata_catalog.py\u001b[0m\u001b]8;;\u001b\\\u001b[2m:\u001b[0m\u001b]8;id=541362;file:///home/sshah/bci-pipeline/lib/python3.8/site-packages/kedro/io/data_catalog.py#343\u001b\\\u001b[2m343\u001b[0m\u001b]8;;\u001b\\\n",
       "\u001b[2;36m                    \u001b[0m         \u001b[1m(\u001b[0mPartitionedDataSet\u001b[1m)\u001b[0m\u001b[33m...\u001b[0m                                            \u001b[2m                   \u001b[0m\n"
      ]
     },
     "metadata": {},
     "output_type": "display_data"
    },
    {
     "data": {
      "text/html": [
       "<pre style=\"white-space:pre;overflow-x:auto;line-height:normal;font-family:Menlo,'DejaVu Sans Mono',consolas,'Courier New',monospace\"><span style=\"color: #7fbfbf; text-decoration-color: #7fbfbf\">                    </span><span style=\"color: #000080; text-decoration-color: #000080\">INFO    </span> Loading data from <span style=\"color: #008000; text-decoration-color: #008000\">'center_out_model_spectrogram_std_pkl'</span>           <a href=\"file:///home/sshah/bci-pipeline/lib/python3.8/site-packages/kedro/io/data_catalog.py\" target=\"_blank\"><span style=\"color: #7f7f7f; text-decoration-color: #7f7f7f\">data_catalog.py</span></a><span style=\"color: #7f7f7f; text-decoration-color: #7f7f7f\">:</span><a href=\"file:///home/sshah/bci-pipeline/lib/python3.8/site-packages/kedro/io/data_catalog.py#343\" target=\"_blank\"><span style=\"color: #7f7f7f; text-decoration-color: #7f7f7f\">343</span></a>\n",
       "<span style=\"color: #7fbfbf; text-decoration-color: #7fbfbf\">                    </span>         <span style=\"font-weight: bold\">(</span>PartitionedDataSet<span style=\"font-weight: bold\">)</span><span style=\"color: #808000; text-decoration-color: #808000\">...</span>                                            <span style=\"color: #7f7f7f; text-decoration-color: #7f7f7f\">                   </span>\n",
       "</pre>\n"
      ],
      "text/plain": [
       "\u001b[2;36m                   \u001b[0m\u001b[2;36m \u001b[0m\u001b[34mINFO    \u001b[0m Loading data from \u001b[32m'center_out_model_spectrogram_std_pkl'\u001b[0m           \u001b]8;id=602884;file:///home/sshah/bci-pipeline/lib/python3.8/site-packages/kedro/io/data_catalog.py\u001b\\\u001b[2mdata_catalog.py\u001b[0m\u001b]8;;\u001b\\\u001b[2m:\u001b[0m\u001b]8;id=365802;file:///home/sshah/bci-pipeline/lib/python3.8/site-packages/kedro/io/data_catalog.py#343\u001b\\\u001b[2m343\u001b[0m\u001b]8;;\u001b\\\n",
       "\u001b[2;36m                    \u001b[0m         \u001b[1m(\u001b[0mPartitionedDataSet\u001b[1m)\u001b[0m\u001b[33m...\u001b[0m                                            \u001b[2m                   \u001b[0m\n"
      ]
     },
     "metadata": {},
     "output_type": "display_data"
    }
   ],
   "source": [
    "model_data_filenames_dict = catalog.load(\"center_out_model_spectrogram_indices\")\n",
    "trial_loading_dict = catalog.load(\"center_out_model_spectrogram_std_pkl\")"
   ]
  },
  {
   "cell_type": "code",
   "execution_count": 8,
   "id": "93ed71b0-d6fa-4764-b59b-f7b11dd3022d",
   "metadata": {},
   "outputs": [],
   "source": [
    "import numpy as np"
   ]
  },
  {
   "cell_type": "code",
   "execution_count": 9,
   "id": "48daa731-8c47-46b7-a69e-e220615fed86",
   "metadata": {},
   "outputs": [
    {
     "data": {
      "text/html": [
       "<pre style=\"white-space:pre;overflow-x:auto;line-height:normal;font-family:Menlo,'DejaVu Sans Mono',consolas,'Courier New',monospace\"><span style=\"color: #7fbfbf; text-decoration-color: #7fbfbf\">[12/06/22 09:31:55] </span><span style=\"color: #000080; text-decoration-color: #000080\">INFO    </span> Loading data from <span style=\"color: #008000; text-decoration-color: #008000\">'center_out_model_filenames'</span> <span style=\"font-weight: bold\">(</span>PickleDataSet<span style=\"font-weight: bold\">)</span><span style=\"color: #808000; text-decoration-color: #808000\">...</span>  <a href=\"file:///home/sshah/bci-pipeline/lib/python3.8/site-packages/kedro/io/data_catalog.py\" target=\"_blank\"><span style=\"color: #7f7f7f; text-decoration-color: #7f7f7f\">data_catalog.py</span></a><span style=\"color: #7f7f7f; text-decoration-color: #7f7f7f\">:</span><a href=\"file:///home/sshah/bci-pipeline/lib/python3.8/site-packages/kedro/io/data_catalog.py#343\" target=\"_blank\"><span style=\"color: #7f7f7f; text-decoration-color: #7f7f7f\">343</span></a>\n",
       "</pre>\n"
      ],
      "text/plain": [
       "\u001b[2;36m[12/06/22 09:31:55]\u001b[0m\u001b[2;36m \u001b[0m\u001b[34mINFO    \u001b[0m Loading data from \u001b[32m'center_out_model_filenames'\u001b[0m \u001b[1m(\u001b[0mPickleDataSet\u001b[1m)\u001b[0m\u001b[33m...\u001b[0m  \u001b]8;id=148458;file:///home/sshah/bci-pipeline/lib/python3.8/site-packages/kedro/io/data_catalog.py\u001b\\\u001b[2mdata_catalog.py\u001b[0m\u001b]8;;\u001b\\\u001b[2m:\u001b[0m\u001b]8;id=472927;file:///home/sshah/bci-pipeline/lib/python3.8/site-packages/kedro/io/data_catalog.py#343\u001b\\\u001b[2m343\u001b[0m\u001b]8;;\u001b\\\n"
      ]
     },
     "metadata": {},
     "output_type": "display_data"
    }
   ],
   "source": [
    "model_data_filenames = catalog.load(\"center_out_model_filenames\")\n",
    "model_data_filenames = np.array(model_data_filenames)"
   ]
  },
  {
   "cell_type": "code",
   "execution_count": 10,
   "id": "39ff2d21-5319-444c-a02e-585f939b049a",
   "metadata": {},
   "outputs": [],
   "source": [
    "model_data_params = context.params['model_data_params']\n",
    "\n",
    "pre_stimulus_time = model_data_params['pre_stimulus_time']\n",
    "post_completion_time = model_data_params['post_completion_time']\n",
    "\n",
    "window_size = model_data_params['window_size']\n",
    "shift = model_data_params['shift']\n",
    "\n",
    "current_experiment = context.params['current_experiment']\n",
    "sessions = context.params['sessions']\n",
    "patient_id = context.params['patient_id']"
   ]
  },
  {
   "cell_type": "code",
   "execution_count": 11,
   "id": "cab3dcfb-90be-4466-8483-31565e85264b",
   "metadata": {},
   "outputs": [],
   "source": [
    "def _generate_trial_filenames_list(model_data_filenames_dict):\n",
    "    trial_filenames_list = []\n",
    "    for partition_key, partition_data_func in model_data_filenames_dict.items():\n",
    "        model_data_dict = partition_data_func()\n",
    "\n",
    "        for state, trial_information_dict in model_data_dict.items():\n",
    "            session_type = trial_information_dict['session_type']\n",
    "            date = trial_information_dict['date']\n",
    "            local_trials_idx_list = trial_information_dict['local_trials_idx_list']\n",
    "            session = trial_information_dict['session']\n",
    "\n",
    "            trial_filenames_list += [f\"{session_type}_{date}_{session}_T{trial_idx}_state{state}\" for trial_idx in local_trials_idx_list]\n",
    "            \n",
    "    return trial_filenames_list"
   ]
  },
  {
   "cell_type": "code",
   "execution_count": 12,
   "id": "0ef19d56-17dd-4d9f-9c68-2625ebd24121",
   "metadata": {},
   "outputs": [],
   "source": [
    "def _generate_train_test_split_indices(model_data_filenames_dict, model_data_filenames, model_data_params, current_experiment):\n",
    "    data_split_type = model_data_params[current_experiment]['sel_split_type']\n",
    "\n",
    "    split_type_params = model_data_params[current_experiment]['split_types'][data_split_type]\n",
    "\n",
    "    leave_out = split_type_params['leave_out']\n",
    "    randomized = split_type_params['randomized']\n",
    "    random_seed = split_type_params['random_seed']\n",
    "    sel_session_type = model_data_params[current_experiment]['sel_session_type']\n",
    "\n",
    "    np.random.seed(random_seed)\n",
    "\n",
    "    if data_split_type == 'leave_day_out':\n",
    "        dates_list = []\n",
    "        for partition_key, partition_data_func in model_data_filenames_dict.items():\n",
    "            date = partition_key.split('_')[-2]\n",
    "            session = partition_key.split('_')[-1]\n",
    "            \n",
    "            data_dict = partition_data_func()\n",
    "            \n",
    "            for state, trial_information_dict in data_dict.items():\n",
    "                if sel_session_type != trial_information_dict['session_type']:\n",
    "                    break\n",
    "                \n",
    "                if date not in dates_list:\n",
    "                    dates_list.append(date)\n",
    "                    break\n",
    "        \n",
    "        dates_list = np.array(list(set(dates_list)))\n",
    "\n",
    "        dates_list_permuted = dates_list\n",
    "        if randomized:\n",
    "            dates_list_permuted = np.random.permutation(dates_list)\n",
    "\n",
    "        test_list_dates = dates_list_permuted[:leave_out]\n",
    "        train_list_dates = dates_list_permuted[leave_out:]\n",
    "        \n",
    "        train_list = []\n",
    "        test_list = []\n",
    "        train_labels_list = []\n",
    "        test_labels_list = []\n",
    "        for partition_key, partition_data_func in model_data_filenames_dict.items():\n",
    "            date = partition_key.split('_')[-2]\n",
    "            session = partition_key.split('_')[-1]\n",
    "            \n",
    "            data_dict = partition_data_func()\n",
    "            \n",
    "            for state, trial_information_dict in data_dict.items():\n",
    "                session_type = trial_information_dict['session_type']\n",
    "                \n",
    "                if sel_session_type != session_type:\n",
    "                    continue\n",
    "                \n",
    "                if date in train_list_dates:\n",
    "                    train_list += trial_information_dict['global_trials_idx_list']\n",
    "                    train_labels_list += [state]*len(trial_information_dict['global_trials_idx_list'])\n",
    "                    \n",
    "                elif date in test_list_dates:\n",
    "                    test_list += trial_information_dict['global_trials_idx_list']\n",
    "                    test_labels_list += [state]*len(trial_information_dict['global_trials_idx_list'])\n",
    "\n",
    "    elif data_split_type == 'leave_session_out':\n",
    "        dates_and_sessions_list = []\n",
    "        for partition_key, partition_data_func in model_data_filenames_dict.items():\n",
    "            date = partition_key.split('_')[-2]\n",
    "            session = partition_key.split('_')[-1]\n",
    "            \n",
    "            data_dict = partition_data_func()\n",
    "            \n",
    "            for state, trial_information_dict in data_dict.items():\n",
    "                if sel_session_type != trial_information_dict['session_type']:\n",
    "                    break\n",
    "                \n",
    "                if {'date': date, 'session': session} not in dates_and_sessions_list:\n",
    "                    dates_and_sessions_list.append({'date': date, 'session': session})\n",
    "                    break\n",
    "\n",
    "        dates_and_sessions_list = np.array(dates_and_sessions_list)\n",
    "\n",
    "        dates_and_sessions_list_permuted = dates_and_sessions_list\n",
    "        if randomized:\n",
    "            dates_and_sessions_list_permuted = np.random.permutation(dates_and_sessions_list)\n",
    "        \n",
    "        test_list_dates_and_sessions = dates_and_sessions_list_permuted[:leave_out]\n",
    "        train_list_dates_and_sessions = dates_and_sessions_list_permuted[leave_out:]\n",
    "        \n",
    "        train_list = []\n",
    "        test_list = []\n",
    "        train_labels_list = []\n",
    "        test_labels_list = []\n",
    "        for partition_key, partition_data_func in model_data_filenames_dict.items():\n",
    "            date = partition_key.split('_')[-2]\n",
    "            session = partition_key.split('_')[-1]\n",
    "            \n",
    "            data_dict = partition_data_func ()\n",
    "            for state, trial_information_dict in data_dict.items():\n",
    "                if {'date': date, 'session': session} in train_list_dates_and_sessions:\n",
    "                    train_list += trial_information_dict['global_trials_idx_list']\n",
    "                    train_labels_list += [state]*len(trial_information_dict['global_trials_idx_list'])\n",
    "                    \n",
    "                elif {'date': date, 'session': session} in test_list_dates_and_sessions:\n",
    "                    test_list += trial_information_dict['global_trials_idx_list']\n",
    "                    test_labels_list += [state]*len(trial_information_dict['global_trials_idx_list'])\n",
    "\n",
    "    elif data_split_type == 'leave_trial_out':\n",
    "        trials_list = []\n",
    "        labels_list= []\n",
    "        for partition_key, partition_data_func in model_data_filenames_dict.items():\n",
    "            date = partition_key.split('_')[-2]\n",
    "            session = partition_key.split('_')[-1]\n",
    "            \n",
    "            data_dict = partition_data_func()\n",
    "            \n",
    "            for state, trial_information_dict in data_dict.items():\n",
    "                if sel_session_type != trial_information_dict['session_type']:\n",
    "                    break\n",
    "                    \n",
    "                trials_list += trial_information_dict['global_trials_idx_list']\n",
    "                labels_list += [state]*len(trial_information_dict['global_trials_idx_list'])\n",
    "\n",
    "        trials_list = np.array(trials_list)\n",
    "        labels_list = np.array(labels_list)\n",
    "\n",
    "        permutation_indices = np.arange(len(labels_list))\n",
    "        if randomized:\n",
    "            permutation_indices = np.random.permutation(permutation_indices)\n",
    "\n",
    "        trials_list_permuted = trials_list[permutation_indices]\n",
    "        trials_labels_list_permuted = labels_list[permutation_indices]\n",
    "        \n",
    "        test_list = trials_list_permuted[:leave_out]\n",
    "        train_list = trials_list_permuted[leave_out:]\n",
    "\n",
    "        test_labels_list = trials_labels_list_permuted[:leave_out]\n",
    "        train_labels_list = trials_labels_list_permuted[leave_out:]\n",
    "\n",
    "    \n",
    "    return {\n",
    "        'train_list_idx': np.array(train_list),\n",
    "        'test_list_idx': np.array(test_list),\n",
    "        'train_labels_list': np.array(train_labels_list),\n",
    "        'test_labels_list': np.array(test_labels_list),\n",
    "        'train_filenames': model_data_filenames[np.array(train_list)],\n",
    "        'test_filenames': model_data_filenames[np.array(test_list)]\n",
    "    }"
   ]
  },
  {
   "cell_type": "code",
   "execution_count": 13,
   "id": "a98ef81c-160a-4c39-bdaf-c525b1ad1bfd",
   "metadata": {},
   "outputs": [],
   "source": [
    "train_test_indices_dict = _generate_train_test_split_indices(model_data_filenames_dict, model_data_filenames, model_data_params, current_experiment)\n",
    "\n",
    "train_list_idx = train_test_indices_dict['train_list_idx']\n",
    "test_list_idx = train_test_indices_dict['test_list_idx']\n",
    "train_labels_list = train_test_indices_dict['train_labels_list'] \n",
    "test_labels_list = train_test_indices_dict['test_labels_list']\n",
    "\n",
    "train_filenames = model_data_filenames[train_list_idx]\n",
    "test_filenames = model_data_filenames[test_list_idx]"
   ]
  },
  {
   "cell_type": "code",
   "execution_count": 97,
   "id": "c8f772ed-5f9d-4247-a468-728641dcfb99",
   "metadata": {},
   "outputs": [
    {
     "data": {
      "text/html": [
       "<pre style=\"white-space:pre;overflow-x:auto;line-height:normal;font-family:Menlo,'DejaVu Sans Mono',consolas,'Courier New',monospace\"><span style=\"color: #008080; text-decoration-color: #008080; font-weight: bold\">10</span>\n",
       "</pre>\n"
      ],
      "text/plain": [
       "\u001b[1;36m10\u001b[0m\n"
      ]
     },
     "metadata": {},
     "output_type": "display_data"
    }
   ],
   "source": [
    "window_size"
   ]
  },
  {
   "cell_type": "code",
   "execution_count": 14,
   "id": "fda96198-70c7-422e-884e-9fdd02ea8d0e",
   "metadata": {},
   "outputs": [],
   "source": [
    "import numpy as np\n",
    "from numpy.lib.stride_tricks import sliding_window_view\n",
    "\n",
    "def _window_spectrogram(sxx, shift, window_size):\n",
    "    \n",
    "    return np.moveaxis(sliding_window_view(sxx, window_shape=window_size, axis=1), [0, -1], [1, -2])[::shift, ...]"
   ]
  },
  {
   "cell_type": "code",
   "execution_count": 15,
   "id": "a67fe68e-7d88-4d30-b849-fd156d8c3469",
   "metadata": {},
   "outputs": [],
   "source": [
    "class CorticomExperimentDataset(Dataset):\n",
    "    def __init__(self, trial_filenames_dict, trial_labels_list, trial_loading_dict):\n",
    "        self.trial_filenames_dict = trial_filenames_dict\n",
    "        self.trial_labels_list = trial_labels_list\n",
    "        self.trial_loading_dict = trial_loading_dict\n",
    "\n",
    "    def __len__(self):\n",
    "        return len(self.trial_filenames_dict)\n",
    "\n",
    "    def __getitem__(self, idx):\n",
    "        filename = self.trial_filenames_dict[idx]\n",
    "        \n",
    "        return self.trial_loading_dict[filename](), self.trial_labels_list[idx]"
   ]
  },
  {
   "cell_type": "code",
   "execution_count": 16,
   "id": "2b527a37-10cc-4eea-9e0b-6ceec2ab0312",
   "metadata": {},
   "outputs": [],
   "source": [
    "# Create training and testing PyTorch datasets\n",
    "training_dataset = CorticomExperimentDataset(train_filenames, train_labels_list, trial_loading_dict)\n",
    "testing_dataset = CorticomExperimentDataset(test_filenames, test_labels_list, trial_loading_dict)"
   ]
  },
  {
   "cell_type": "code",
   "execution_count": 98,
   "id": "b26396f2-9878-4b89-b427-a78a66cf0d37",
   "metadata": {},
   "outputs": [],
   "source": [
    "def experiment_dataloader_collate(data):\n",
    "    sxx_list = []\n",
    "    labels_list = []\n",
    "    \n",
    "    for sxx, label in data:\n",
    "        windowed_sxx = _window_spectrogram(sxx, shift, window_size)\n",
    "        \n",
    "        sxx_list.append(windowed_sxx)\n",
    "        \n",
    "        print(sxx.shape)\n",
    "        print(windowed_sxx.shape)\n",
    "        \n",
    "        labels_list += [label]*windowed_sxx.shape[0]\n",
    "    \n",
    "    windowed_sxx = np.concatenate(sxx_list)\n",
    "    labels_sxx = np.array(labels_list) - 1\n",
    "    \n",
    "    return windowed_sxx, labels_sxx"
   ]
  },
  {
   "cell_type": "code",
   "execution_count": 99,
   "id": "5cf4b5a6-1802-4407-885e-d9e95a8b6d22",
   "metadata": {
    "tags": []
   },
   "outputs": [],
   "source": [
    "training_loader = torch.utils.data.DataLoader(training_dataset, batch_size=3, shuffle=True, collate_fn=experiment_dataloader_collate)"
   ]
  },
  {
   "cell_type": "code",
   "execution_count": 100,
   "id": "1bc44a54-efe5-4e61-b221-b81f7bcd1028",
   "metadata": {},
   "outputs": [
    {
     "name": "stdout",
     "output_type": "stream",
     "text": [
      "(129, 525, 128)\n",
      "(516, 129, 10, 128)\n",
      "(129, 527, 128)\n",
      "(518, 129, 10, 128)\n",
      "(129, 525, 128)\n",
      "(516, 129, 10, 128)\n"
     ]
    }
   ],
   "source": [
    "batch, labels = next(iter(training_loader))"
   ]
  },
  {
   "cell_type": "code",
   "execution_count": 90,
   "id": "6b44566a-0379-4fce-9bfb-a6d0dcc8e05d",
   "metadata": {},
   "outputs": [],
   "source": [
    "import torch.nn as nn\n",
    "import torch.nn.functional as F\n",
    "import torch\n",
    "from torchinfo import summary"
   ]
  },
  {
   "cell_type": "code",
   "execution_count": 91,
   "id": "09d5cfaa-538c-48dc-b831-8aacf2f5ad05",
   "metadata": {},
   "outputs": [],
   "source": [
    "# PyTorch models inherit from torch.nn.Module\n",
    "class GarmentClassifier(nn.Module):\n",
    "    def __init__(self):\n",
    "        super(GarmentClassifier, self).__init__()\n",
    "        self.conv1 = nn.Conv2d(10, 10, (1,11), stride=(1,1), bias=False)\n",
    "        self.conv2 = nn.Conv2d(10, 10, (1,11), stride=(1,1), bias=False )\n",
    "        self.conv3 = nn.Conv2d(10, 10, (1,11), stride=(1,1), bias=False)\n",
    "        self.conv4 = nn.Conv2d(10, 10, (1,7), stride=(1,1), bias=False)\n",
    "        # self.conv5 = nn.Conv2d(10, 10, (1,3), stride=(1,1), bias=False)\n",
    "        \n",
    "        self.conv1d1 = nn.Conv1d(10, 10, 11, stride=1, bias=False)\n",
    "        self.conv1d2 = nn.Conv1d(10, 10, 11, stride=1, bias=False)\n",
    "        \n",
    "        # self.lstm = nn.LSTM(128, 64, batch_first=True, bias=False)\n",
    "        # self.lstm2 = nn.LSTM(64, 32, batch_first=True, bias=False)\n",
    "        \n",
    "        self.pool = nn.MaxPool2d((1, 2), (1, 2))\n",
    "        self.pool1d = nn.MaxPool1d(2, 2)\n",
    "        self.fc1 = nn.Linear(240, 120, bias=False)\n",
    "        self.fc2 = nn.Linear(120, 8, bias=False)\n",
    "        \n",
    "        # self.softmax = nn.Softmax(dim=1)\n",
    "\n",
    "    def forward(self, x):\n",
    "        x = torch.moveaxis(x, (1, 3), (3, 2))\n",
    "        x = F.elu(self.conv1(x))\n",
    "        x = self.pool(x)\n",
    "        x = F.elu(self.conv2(x))\n",
    "        x = self.pool(x)\n",
    "        x = F.elu(self.conv3(x))\n",
    "        x = self.pool(F.elu(x))\n",
    "        x = self.conv4(x)\n",
    "        # x = self.pool(F.elu(x))\n",
    "        # x = F.elu(self.conv5(x))\n",
    "        x = torch.squeeze(x, dim=-1)\n",
    "        \n",
    "        x = self.pool1d(F.elu(self.conv1d1(x)))\n",
    "        x = self.pool1d(F.elu(self.conv1d2(x)))\n",
    "        \n",
    "        \n",
    "        # x = self.lstm(x)\n",
    "        # x = x[0]\n",
    "        # x = self.lstm2(x)\n",
    "        # x = x[0][:, -1, :]\n",
    "        x = x.reshape(-1, 240)\n",
    "        x = F.elu(self.fc1(x))\n",
    "        x = self.fc2(x)\n",
    "        # x = self.softmax(x)\n",
    "        return x\n",
    "\n",
    "model = GarmentClassifier()\n",
    "model = model.to(device)"
   ]
  },
  {
   "cell_type": "code",
   "execution_count": 92,
   "id": "561d0df7-19b6-4d6c-babf-be6c098ecf46",
   "metadata": {},
   "outputs": [
    {
     "data": {
      "text/html": [
       "<pre style=\"white-space:pre;overflow-x:auto;line-height:normal;font-family:Menlo,'DejaVu Sans Mono',consolas,'Courier New',monospace\">\n",
       "==========================================================================================\n",
       "Layer <span style=\"font-weight: bold\">(</span>typ<span style=\"color: #00ff00; text-decoration-color: #00ff00; font-weight: bold\">e:de</span>pth-idx<span style=\"font-weight: bold\">)</span>                   Output Shape              Param #\n",
       "==========================================================================================\n",
       "GarmentClassifier                        <span style=\"font-weight: bold\">[</span><span style=\"color: #008080; text-decoration-color: #008080; font-weight: bold\">1</span>, <span style=\"color: #008080; text-decoration-color: #008080; font-weight: bold\">8</span><span style=\"font-weight: bold\">]</span>                    --\n",
       "├─Conv2d: <span style=\"color: #008080; text-decoration-color: #008080; font-weight: bold\">1</span>-<span style=\"color: #008080; text-decoration-color: #008080; font-weight: bold\">1</span>                            <span style=\"font-weight: bold\">[</span><span style=\"color: #008080; text-decoration-color: #008080; font-weight: bold\">1</span>, <span style=\"color: #008080; text-decoration-color: #008080; font-weight: bold\">10</span>, <span style=\"color: #008080; text-decoration-color: #008080; font-weight: bold\">128</span>, <span style=\"color: #008080; text-decoration-color: #008080; font-weight: bold\">119</span><span style=\"font-weight: bold\">]</span>         <span style=\"color: #008080; text-decoration-color: #008080; font-weight: bold\">1</span>,<span style=\"color: #008080; text-decoration-color: #008080; font-weight: bold\">100</span>\n",
       "├─MaxPool2d: <span style=\"color: #008080; text-decoration-color: #008080; font-weight: bold\">1</span>-<span style=\"color: #008080; text-decoration-color: #008080; font-weight: bold\">2</span>                         <span style=\"font-weight: bold\">[</span><span style=\"color: #008080; text-decoration-color: #008080; font-weight: bold\">1</span>, <span style=\"color: #008080; text-decoration-color: #008080; font-weight: bold\">10</span>, <span style=\"color: #008080; text-decoration-color: #008080; font-weight: bold\">128</span>, <span style=\"color: #008080; text-decoration-color: #008080; font-weight: bold\">59</span><span style=\"font-weight: bold\">]</span>          --\n",
       "├─Conv2d: <span style=\"color: #008080; text-decoration-color: #008080; font-weight: bold\">1</span>-<span style=\"color: #008080; text-decoration-color: #008080; font-weight: bold\">3</span>                            <span style=\"font-weight: bold\">[</span><span style=\"color: #008080; text-decoration-color: #008080; font-weight: bold\">1</span>, <span style=\"color: #008080; text-decoration-color: #008080; font-weight: bold\">10</span>, <span style=\"color: #008080; text-decoration-color: #008080; font-weight: bold\">128</span>, <span style=\"color: #008080; text-decoration-color: #008080; font-weight: bold\">49</span><span style=\"font-weight: bold\">]</span>          <span style=\"color: #008080; text-decoration-color: #008080; font-weight: bold\">1</span>,<span style=\"color: #008080; text-decoration-color: #008080; font-weight: bold\">100</span>\n",
       "├─MaxPool2d: <span style=\"color: #008080; text-decoration-color: #008080; font-weight: bold\">1</span>-<span style=\"color: #008080; text-decoration-color: #008080; font-weight: bold\">4</span>                         <span style=\"font-weight: bold\">[</span><span style=\"color: #008080; text-decoration-color: #008080; font-weight: bold\">1</span>, <span style=\"color: #008080; text-decoration-color: #008080; font-weight: bold\">10</span>, <span style=\"color: #008080; text-decoration-color: #008080; font-weight: bold\">128</span>, <span style=\"color: #008080; text-decoration-color: #008080; font-weight: bold\">24</span><span style=\"font-weight: bold\">]</span>          --\n",
       "├─Conv2d: <span style=\"color: #008080; text-decoration-color: #008080; font-weight: bold\">1</span>-<span style=\"color: #008080; text-decoration-color: #008080; font-weight: bold\">5</span>                            <span style=\"font-weight: bold\">[</span><span style=\"color: #008080; text-decoration-color: #008080; font-weight: bold\">1</span>, <span style=\"color: #008080; text-decoration-color: #008080; font-weight: bold\">10</span>, <span style=\"color: #008080; text-decoration-color: #008080; font-weight: bold\">128</span>, <span style=\"color: #008080; text-decoration-color: #008080; font-weight: bold\">14</span><span style=\"font-weight: bold\">]</span>          <span style=\"color: #008080; text-decoration-color: #008080; font-weight: bold\">1</span>,<span style=\"color: #008080; text-decoration-color: #008080; font-weight: bold\">100</span>\n",
       "├─MaxPool2d: <span style=\"color: #008080; text-decoration-color: #008080; font-weight: bold\">1</span>-<span style=\"color: #008080; text-decoration-color: #008080; font-weight: bold\">6</span>                         <span style=\"font-weight: bold\">[</span><span style=\"color: #008080; text-decoration-color: #008080; font-weight: bold\">1</span>, <span style=\"color: #008080; text-decoration-color: #008080; font-weight: bold\">10</span>, <span style=\"color: #008080; text-decoration-color: #008080; font-weight: bold\">128</span>, <span style=\"color: #008080; text-decoration-color: #008080; font-weight: bold\">7</span><span style=\"font-weight: bold\">]</span>           --\n",
       "├─Conv2d: <span style=\"color: #008080; text-decoration-color: #008080; font-weight: bold\">1</span>-<span style=\"color: #008080; text-decoration-color: #008080; font-weight: bold\">7</span>                            <span style=\"font-weight: bold\">[</span><span style=\"color: #008080; text-decoration-color: #008080; font-weight: bold\">1</span>, <span style=\"color: #008080; text-decoration-color: #008080; font-weight: bold\">10</span>, <span style=\"color: #008080; text-decoration-color: #008080; font-weight: bold\">128</span>, <span style=\"color: #008080; text-decoration-color: #008080; font-weight: bold\">1</span><span style=\"font-weight: bold\">]</span>           <span style=\"color: #008080; text-decoration-color: #008080; font-weight: bold\">700</span>\n",
       "├─Conv1d: <span style=\"color: #008080; text-decoration-color: #008080; font-weight: bold\">1</span>-<span style=\"color: #008080; text-decoration-color: #008080; font-weight: bold\">8</span>                            <span style=\"font-weight: bold\">[</span><span style=\"color: #008080; text-decoration-color: #008080; font-weight: bold\">1</span>, <span style=\"color: #008080; text-decoration-color: #008080; font-weight: bold\">10</span>, <span style=\"color: #008080; text-decoration-color: #008080; font-weight: bold\">118</span><span style=\"font-weight: bold\">]</span>              <span style=\"color: #008080; text-decoration-color: #008080; font-weight: bold\">1</span>,<span style=\"color: #008080; text-decoration-color: #008080; font-weight: bold\">100</span>\n",
       "├─MaxPool1d: <span style=\"color: #008080; text-decoration-color: #008080; font-weight: bold\">1</span>-<span style=\"color: #008080; text-decoration-color: #008080; font-weight: bold\">9</span>                         <span style=\"font-weight: bold\">[</span><span style=\"color: #008080; text-decoration-color: #008080; font-weight: bold\">1</span>, <span style=\"color: #008080; text-decoration-color: #008080; font-weight: bold\">10</span>, <span style=\"color: #008080; text-decoration-color: #008080; font-weight: bold\">59</span><span style=\"font-weight: bold\">]</span>               --\n",
       "├─Conv1d: <span style=\"color: #008080; text-decoration-color: #008080; font-weight: bold\">1</span>-<span style=\"color: #008080; text-decoration-color: #008080; font-weight: bold\">10</span>                           <span style=\"font-weight: bold\">[</span><span style=\"color: #008080; text-decoration-color: #008080; font-weight: bold\">1</span>, <span style=\"color: #008080; text-decoration-color: #008080; font-weight: bold\">10</span>, <span style=\"color: #008080; text-decoration-color: #008080; font-weight: bold\">49</span><span style=\"font-weight: bold\">]</span>               <span style=\"color: #008080; text-decoration-color: #008080; font-weight: bold\">1</span>,<span style=\"color: #008080; text-decoration-color: #008080; font-weight: bold\">100</span>\n",
       "├─MaxPool1d: <span style=\"color: #008080; text-decoration-color: #008080; font-weight: bold\">1</span>-<span style=\"color: #008080; text-decoration-color: #008080; font-weight: bold\">11</span>                        <span style=\"font-weight: bold\">[</span><span style=\"color: #008080; text-decoration-color: #008080; font-weight: bold\">1</span>, <span style=\"color: #008080; text-decoration-color: #008080; font-weight: bold\">10</span>, <span style=\"color: #008080; text-decoration-color: #008080; font-weight: bold\">24</span><span style=\"font-weight: bold\">]</span>               --\n",
       "├─Linear: <span style=\"color: #008080; text-decoration-color: #008080; font-weight: bold\">1</span>-<span style=\"color: #008080; text-decoration-color: #008080; font-weight: bold\">12</span>                           <span style=\"font-weight: bold\">[</span><span style=\"color: #008080; text-decoration-color: #008080; font-weight: bold\">1</span>, <span style=\"color: #008080; text-decoration-color: #008080; font-weight: bold\">120</span><span style=\"font-weight: bold\">]</span>                  <span style=\"color: #008080; text-decoration-color: #008080; font-weight: bold\">28</span>,<span style=\"color: #008080; text-decoration-color: #008080; font-weight: bold\">800</span>\n",
       "├─Linear: <span style=\"color: #008080; text-decoration-color: #008080; font-weight: bold\">1</span>-<span style=\"color: #008080; text-decoration-color: #008080; font-weight: bold\">13</span>                           <span style=\"font-weight: bold\">[</span><span style=\"color: #008080; text-decoration-color: #008080; font-weight: bold\">1</span>, <span style=\"color: #008080; text-decoration-color: #008080; font-weight: bold\">8</span><span style=\"font-weight: bold\">]</span>                    <span style=\"color: #008080; text-decoration-color: #008080; font-weight: bold\">960</span>\n",
       "==========================================================================================\n",
       "Total params: <span style=\"color: #008080; text-decoration-color: #008080; font-weight: bold\">35</span>,<span style=\"color: #008080; text-decoration-color: #008080; font-weight: bold\">960</span>\n",
       "Trainable params: <span style=\"color: #008080; text-decoration-color: #008080; font-weight: bold\">35</span>,<span style=\"color: #008080; text-decoration-color: #008080; font-weight: bold\">960</span>\n",
       "Non-trainable params: <span style=\"color: #008080; text-decoration-color: #008080; font-weight: bold\">0</span>\n",
       "Total mult-adds <span style=\"font-weight: bold\">(</span>M<span style=\"font-weight: bold\">)</span>: <span style=\"color: #008080; text-decoration-color: #008080; font-weight: bold\">25.93</span>\n",
       "==========================================================================================\n",
       "Input size <span style=\"font-weight: bold\">(</span>MB<span style=\"font-weight: bold\">)</span>: <span style=\"color: #008080; text-decoration-color: #008080; font-weight: bold\">0.66</span>\n",
       "Forward/backward pass size <span style=\"font-weight: bold\">(</span>MB<span style=\"font-weight: bold\">)</span>: <span style=\"color: #008080; text-decoration-color: #008080; font-weight: bold\">1.89</span>\n",
       "Params size <span style=\"font-weight: bold\">(</span>MB<span style=\"font-weight: bold\">)</span>: <span style=\"color: #008080; text-decoration-color: #008080; font-weight: bold\">0.14</span>\n",
       "Estimated Total Size <span style=\"font-weight: bold\">(</span>MB<span style=\"font-weight: bold\">)</span>: <span style=\"color: #008080; text-decoration-color: #008080; font-weight: bold\">2.69</span>\n",
       "==========================================================================================\n",
       "</pre>\n"
      ],
      "text/plain": [
       "\n",
       "==========================================================================================\n",
       "Layer \u001b[1m(\u001b[0mtyp\u001b[1;92me:de\u001b[0mpth-idx\u001b[1m)\u001b[0m                   Output Shape              Param #\n",
       "==========================================================================================\n",
       "GarmentClassifier                        \u001b[1m[\u001b[0m\u001b[1;36m1\u001b[0m, \u001b[1;36m8\u001b[0m\u001b[1m]\u001b[0m                    --\n",
       "├─Conv2d: \u001b[1;36m1\u001b[0m-\u001b[1;36m1\u001b[0m                            \u001b[1m[\u001b[0m\u001b[1;36m1\u001b[0m, \u001b[1;36m10\u001b[0m, \u001b[1;36m128\u001b[0m, \u001b[1;36m119\u001b[0m\u001b[1m]\u001b[0m         \u001b[1;36m1\u001b[0m,\u001b[1;36m100\u001b[0m\n",
       "├─MaxPool2d: \u001b[1;36m1\u001b[0m-\u001b[1;36m2\u001b[0m                         \u001b[1m[\u001b[0m\u001b[1;36m1\u001b[0m, \u001b[1;36m10\u001b[0m, \u001b[1;36m128\u001b[0m, \u001b[1;36m59\u001b[0m\u001b[1m]\u001b[0m          --\n",
       "├─Conv2d: \u001b[1;36m1\u001b[0m-\u001b[1;36m3\u001b[0m                            \u001b[1m[\u001b[0m\u001b[1;36m1\u001b[0m, \u001b[1;36m10\u001b[0m, \u001b[1;36m128\u001b[0m, \u001b[1;36m49\u001b[0m\u001b[1m]\u001b[0m          \u001b[1;36m1\u001b[0m,\u001b[1;36m100\u001b[0m\n",
       "├─MaxPool2d: \u001b[1;36m1\u001b[0m-\u001b[1;36m4\u001b[0m                         \u001b[1m[\u001b[0m\u001b[1;36m1\u001b[0m, \u001b[1;36m10\u001b[0m, \u001b[1;36m128\u001b[0m, \u001b[1;36m24\u001b[0m\u001b[1m]\u001b[0m          --\n",
       "├─Conv2d: \u001b[1;36m1\u001b[0m-\u001b[1;36m5\u001b[0m                            \u001b[1m[\u001b[0m\u001b[1;36m1\u001b[0m, \u001b[1;36m10\u001b[0m, \u001b[1;36m128\u001b[0m, \u001b[1;36m14\u001b[0m\u001b[1m]\u001b[0m          \u001b[1;36m1\u001b[0m,\u001b[1;36m100\u001b[0m\n",
       "├─MaxPool2d: \u001b[1;36m1\u001b[0m-\u001b[1;36m6\u001b[0m                         \u001b[1m[\u001b[0m\u001b[1;36m1\u001b[0m, \u001b[1;36m10\u001b[0m, \u001b[1;36m128\u001b[0m, \u001b[1;36m7\u001b[0m\u001b[1m]\u001b[0m           --\n",
       "├─Conv2d: \u001b[1;36m1\u001b[0m-\u001b[1;36m7\u001b[0m                            \u001b[1m[\u001b[0m\u001b[1;36m1\u001b[0m, \u001b[1;36m10\u001b[0m, \u001b[1;36m128\u001b[0m, \u001b[1;36m1\u001b[0m\u001b[1m]\u001b[0m           \u001b[1;36m700\u001b[0m\n",
       "├─Conv1d: \u001b[1;36m1\u001b[0m-\u001b[1;36m8\u001b[0m                            \u001b[1m[\u001b[0m\u001b[1;36m1\u001b[0m, \u001b[1;36m10\u001b[0m, \u001b[1;36m118\u001b[0m\u001b[1m]\u001b[0m              \u001b[1;36m1\u001b[0m,\u001b[1;36m100\u001b[0m\n",
       "├─MaxPool1d: \u001b[1;36m1\u001b[0m-\u001b[1;36m9\u001b[0m                         \u001b[1m[\u001b[0m\u001b[1;36m1\u001b[0m, \u001b[1;36m10\u001b[0m, \u001b[1;36m59\u001b[0m\u001b[1m]\u001b[0m               --\n",
       "├─Conv1d: \u001b[1;36m1\u001b[0m-\u001b[1;36m10\u001b[0m                           \u001b[1m[\u001b[0m\u001b[1;36m1\u001b[0m, \u001b[1;36m10\u001b[0m, \u001b[1;36m49\u001b[0m\u001b[1m]\u001b[0m               \u001b[1;36m1\u001b[0m,\u001b[1;36m100\u001b[0m\n",
       "├─MaxPool1d: \u001b[1;36m1\u001b[0m-\u001b[1;36m11\u001b[0m                        \u001b[1m[\u001b[0m\u001b[1;36m1\u001b[0m, \u001b[1;36m10\u001b[0m, \u001b[1;36m24\u001b[0m\u001b[1m]\u001b[0m               --\n",
       "├─Linear: \u001b[1;36m1\u001b[0m-\u001b[1;36m12\u001b[0m                           \u001b[1m[\u001b[0m\u001b[1;36m1\u001b[0m, \u001b[1;36m120\u001b[0m\u001b[1m]\u001b[0m                  \u001b[1;36m28\u001b[0m,\u001b[1;36m800\u001b[0m\n",
       "├─Linear: \u001b[1;36m1\u001b[0m-\u001b[1;36m13\u001b[0m                           \u001b[1m[\u001b[0m\u001b[1;36m1\u001b[0m, \u001b[1;36m8\u001b[0m\u001b[1m]\u001b[0m                    \u001b[1;36m960\u001b[0m\n",
       "==========================================================================================\n",
       "Total params: \u001b[1;36m35\u001b[0m,\u001b[1;36m960\u001b[0m\n",
       "Trainable params: \u001b[1;36m35\u001b[0m,\u001b[1;36m960\u001b[0m\n",
       "Non-trainable params: \u001b[1;36m0\u001b[0m\n",
       "Total mult-adds \u001b[1m(\u001b[0mM\u001b[1m)\u001b[0m: \u001b[1;36m25.93\u001b[0m\n",
       "==========================================================================================\n",
       "Input size \u001b[1m(\u001b[0mMB\u001b[1m)\u001b[0m: \u001b[1;36m0.66\u001b[0m\n",
       "Forward/backward pass size \u001b[1m(\u001b[0mMB\u001b[1m)\u001b[0m: \u001b[1;36m1.89\u001b[0m\n",
       "Params size \u001b[1m(\u001b[0mMB\u001b[1m)\u001b[0m: \u001b[1;36m0.14\u001b[0m\n",
       "Estimated Total Size \u001b[1m(\u001b[0mMB\u001b[1m)\u001b[0m: \u001b[1;36m2.69\u001b[0m\n",
       "==========================================================================================\n"
      ]
     },
     "metadata": {},
     "output_type": "display_data"
    }
   ],
   "source": [
    "summary(model, input_size=(1, 129, 10, 128))"
   ]
  },
  {
   "cell_type": "code",
   "execution_count": 93,
   "id": "1b4a9c3a-fb4e-43bf-8752-ffdc23ee1a66",
   "metadata": {},
   "outputs": [],
   "source": [
    "loss_fn = torch.nn.CrossEntropyLoss()"
   ]
  },
  {
   "cell_type": "code",
   "execution_count": 94,
   "id": "6c967b70-4067-472b-b97b-9cdd3cce5bc0",
   "metadata": {},
   "outputs": [],
   "source": [
    "optimizer = torch.optim.Adam(model.parameters(), lr=0.001)"
   ]
  },
  {
   "cell_type": "code",
   "execution_count": 95,
   "id": "5a3d535d-4c07-4169-aae0-dceb060a3d4d",
   "metadata": {},
   "outputs": [],
   "source": [
    "import sys\n",
    "\n",
    "def train_one_epoch(epoch_index):\n",
    "    running_loss = 0.\n",
    "    last_loss = 0.\n",
    "\n",
    "    # Here, we use enumerate(training_loader) instead of\n",
    "    # iter(training_loader) so that we can track the batch\n",
    "    # index and do some intra-epoch reporting\n",
    "    \n",
    "#     for i in notebook.tqdm(range(2), desc='Training Loop'):\n",
    "#         sleep(1)\n",
    "#         # tqdm.write(f\"\\rDone task {i}\")\n",
    "#         sys.stdout.write(f\"\\rDone task {i}\")\n",
    "#         sys.stdout.flush()\n",
    "    \n",
    "    for i, data in enumerate(notebook.tqdm(training_loader)):\n",
    "        # Every data instance is an input + label pair\n",
    "        inputs, labels = data\n",
    "        \n",
    "        labels_pyt = torch.from_numpy(labels).type(torch.float).to(device)\n",
    "        inputs_pyt = torch.from_numpy(inputs).type(torch.float).to(device)\n",
    "        \n",
    "        len_batch = labels_pyt.shape[0]\n",
    "        \n",
    "        # Zero your gradients for every batch!\n",
    "        optimizer.zero_grad()\n",
    "        \n",
    "        # print(\"Hello\")\n",
    "\n",
    "        # Make predictions for this batch\n",
    "        outputs = model(inputs_pyt)\n",
    "        \n",
    "        # print(\"Hillo\")\n",
    "        \n",
    "        _, pred = torch.max(outputs, 1)\n",
    "        \n",
    "        # print(inputs_pyt[0, 0, 0, 0])\n",
    "        # print(inputs_pyt[-1, 0, 0, 0])\n",
    "        \n",
    "        # print(outputs[:2, :])\n",
    "        \n",
    "        # print(pred)\n",
    "        # print(labels_pyt)\n",
    "        \n",
    "        sys.stdout.write(f\"\\r{(pred==labels_pyt).sum()/len(pred)*100:.5f}% | \")\n",
    "        \n",
    "        sys.stdout.write(f\"{torch.unique(pred)} | \")\n",
    "        \n",
    "        # print(outputs.shape)\n",
    "        # print(outputs.type())\n",
    "        # print(labels_pyt.type())\n",
    "\n",
    "        # Compute the loss and its gradients\n",
    "        loss = loss_fn(outputs, labels_pyt.long())\n",
    "        # print(loss)\n",
    "        loss.backward()\n",
    "\n",
    "        # Adjust learning weights\n",
    "        optimizer.step()\n",
    "\n",
    "        # Gather data and report\n",
    "        running_loss += loss.item()\n",
    "        # if i % 10 == 0:\n",
    "        last_loss = running_loss / len_batch # loss per batch\n",
    "        sys.stdout.write(f'batch {i + 1} loss: {loss:.5f}')\n",
    "        # tb_x = epoch_index * len(training_loader) + i + 1\n",
    "        # tb_writer.add_scalar('Loss/train', last_loss, tb_x)\n",
    "        running_loss = 0.\n",
    "        \n",
    "        sys.stdout.flush()\n",
    "\n",
    "    return last_loss"
   ]
  },
  {
   "cell_type": "code",
   "execution_count": 96,
   "id": "97deb77e-1535-414f-a73a-f9f2be054273",
   "metadata": {
    "tags": []
   },
   "outputs": [
    {
     "name": "stdout",
     "output_type": "stream",
     "text": [
      "EPOCH 1:\n"
     ]
    },
    {
     "data": {
      "application/vnd.jupyter.widget-view+json": {
       "model_id": "4ff4e137b4934facbcbfe7bc58dba509",
       "version_major": 2,
       "version_minor": 0
      },
      "text/plain": [
       "  0%|          | 0/200 [00:00<?, ?it/s]"
      ]
     },
     "metadata": {},
     "output_type": "display_data"
    },
    {
     "name": "stdout",
     "output_type": "stream",
     "text": [
      "EPOCH 2:% | tensor([6], device='cuda:0') | batch 200 loss: 2.04848520: 2.07101\n"
     ]
    },
    {
     "data": {
      "application/vnd.jupyter.widget-view+json": {
       "model_id": "7e0c0fe575be47c1aa79de8bb24a779f",
       "version_major": 2,
       "version_minor": 0
      },
      "text/plain": [
       "  0%|          | 0/200 [00:00<?, ?it/s]"
      ]
     },
     "metadata": {},
     "output_type": "display_data"
    },
    {
     "name": "stdout",
     "output_type": "stream",
     "text": [
      "EPOCH 3: | tensor([1, 3], device='cuda:0') | batch 200 loss: 2.092246937183.07596\n"
     ]
    },
    {
     "data": {
      "application/vnd.jupyter.widget-view+json": {
       "model_id": "a2e54500648f4db6b85f4aa3b7aa3997",
       "version_major": 2,
       "version_minor": 0
      },
      "text/plain": [
       "  0%|          | 0/200 [00:00<?, ?it/s]"
      ]
     },
     "metadata": {},
     "output_type": "display_data"
    },
    {
     "name": "stdout",
     "output_type": "stream",
     "text": [
      "0.00000% | tensor([3, 7], device='cuda:0') | batch 26 loss: 2.13924"
     ]
    },
    {
     "data": {
      "text/html": [
       "<pre style=\"white-space:pre;overflow-x:auto;line-height:normal;font-family:Menlo,'DejaVu Sans Mono',consolas,'Courier New',monospace\"><span style=\"color: #800000; text-decoration-color: #800000\">╭─────────────────────────────── </span><span style=\"color: #800000; text-decoration-color: #800000; font-weight: bold\">Traceback </span><span style=\"color: #bf7f7f; text-decoration-color: #bf7f7f; font-weight: bold\">(most recent call last)</span><span style=\"color: #800000; text-decoration-color: #800000\"> ────────────────────────────────╮</span>\n",
       "<span style=\"color: #800000; text-decoration-color: #800000\">│</span> <span style=\"color: #bfbf7f; text-decoration-color: #bfbf7f\">/tmp/ipykernel_299458/</span><span style=\"color: #808000; text-decoration-color: #808000; font-weight: bold\">2778962641.py</span>:<span style=\"color: #0000ff; text-decoration-color: #0000ff\">17</span> in <span style=\"color: #00ff00; text-decoration-color: #00ff00\">&lt;cell line: 12&gt;</span>                                        <span style=\"color: #800000; text-decoration-color: #800000\">│</span>\n",
       "<span style=\"color: #800000; text-decoration-color: #800000\">│</span>                                                                                                  <span style=\"color: #800000; text-decoration-color: #800000\">│</span>\n",
       "<span style=\"color: #800000; text-decoration-color: #800000\">│</span> <span style=\"color: #800000; text-decoration-color: #800000; font-style: italic\">[Errno 2] No such file or directory: '/tmp/ipykernel_299458/2778962641.py'</span>                       <span style=\"color: #800000; text-decoration-color: #800000\">│</span>\n",
       "<span style=\"color: #800000; text-decoration-color: #800000\">│</span>                                                                                                  <span style=\"color: #800000; text-decoration-color: #800000\">│</span>\n",
       "<span style=\"color: #800000; text-decoration-color: #800000\">│</span> <span style=\"color: #bfbf7f; text-decoration-color: #bfbf7f\">/tmp/ipykernel_299458/</span><span style=\"color: #808000; text-decoration-color: #808000; font-weight: bold\">1303677725.py</span>:<span style=\"color: #0000ff; text-decoration-color: #0000ff\">46</span> in <span style=\"color: #00ff00; text-decoration-color: #00ff00\">train_one_epoch</span>                                        <span style=\"color: #800000; text-decoration-color: #800000\">│</span>\n",
       "<span style=\"color: #800000; text-decoration-color: #800000\">│</span>                                                                                                  <span style=\"color: #800000; text-decoration-color: #800000\">│</span>\n",
       "<span style=\"color: #800000; text-decoration-color: #800000\">│</span> <span style=\"color: #800000; text-decoration-color: #800000; font-style: italic\">[Errno 2] No such file or directory: '/tmp/ipykernel_299458/1303677725.py'</span>                       <span style=\"color: #800000; text-decoration-color: #800000\">│</span>\n",
       "<span style=\"color: #800000; text-decoration-color: #800000\">│</span>                                                                                                  <span style=\"color: #800000; text-decoration-color: #800000\">│</span>\n",
       "<span style=\"color: #800000; text-decoration-color: #800000\">│</span> <span style=\"color: #bfbf7f; text-decoration-color: #bfbf7f\">/home/sshah/bci-pipeline/lib/python3.8/site-packages/torch/</span><span style=\"color: #808000; text-decoration-color: #808000; font-weight: bold\">_tensor.py</span>:<span style=\"color: #0000ff; text-decoration-color: #0000ff\">857</span> in <span style=\"color: #00ff00; text-decoration-color: #00ff00\">__format__</span>          <span style=\"color: #800000; text-decoration-color: #800000\">│</span>\n",
       "<span style=\"color: #800000; text-decoration-color: #800000\">│</span>                                                                                                  <span style=\"color: #800000; text-decoration-color: #800000\">│</span>\n",
       "<span style=\"color: #800000; text-decoration-color: #800000\">│</span>   <span style=\"color: #7f7f7f; text-decoration-color: #7f7f7f\"> 854 │   │   </span><span style=\"color: #0000ff; text-decoration-color: #0000ff\">if</span> has_torch_function_unary(<span style=\"color: #00ffff; text-decoration-color: #00ffff\">self</span>):                                                <span style=\"color: #800000; text-decoration-color: #800000\">│</span>\n",
       "<span style=\"color: #800000; text-decoration-color: #800000\">│</span>   <span style=\"color: #7f7f7f; text-decoration-color: #7f7f7f\"> 855 │   │   │   </span><span style=\"color: #0000ff; text-decoration-color: #0000ff\">return</span> handle_torch_function(Tensor.<span style=\"color: #00ff00; text-decoration-color: #00ff00\">__format__</span>, (<span style=\"color: #00ffff; text-decoration-color: #00ffff\">self</span>,), <span style=\"color: #00ffff; text-decoration-color: #00ffff\">self</span>, format_spec)   <span style=\"color: #800000; text-decoration-color: #800000\">│</span>\n",
       "<span style=\"color: #800000; text-decoration-color: #800000\">│</span>   <span style=\"color: #7f7f7f; text-decoration-color: #7f7f7f\"> 856 │   │   </span><span style=\"color: #0000ff; text-decoration-color: #0000ff\">if</span> <span style=\"color: #00ffff; text-decoration-color: #00ffff\">self</span>.dim() == <span style=\"color: #0000ff; text-decoration-color: #0000ff\">0</span> <span style=\"color: #ff00ff; text-decoration-color: #ff00ff\">and</span> <span style=\"color: #ff00ff; text-decoration-color: #ff00ff\">not</span> <span style=\"color: #00ffff; text-decoration-color: #00ffff\">self</span>.is_meta <span style=\"color: #ff00ff; text-decoration-color: #ff00ff\">and</span> <span style=\"color: #00ffff; text-decoration-color: #00ffff\">type</span>(<span style=\"color: #00ffff; text-decoration-color: #00ffff\">self</span>) <span style=\"color: #ff00ff; text-decoration-color: #ff00ff\">is</span> Tensor:                 <span style=\"color: #800000; text-decoration-color: #800000\">│</span>\n",
       "<span style=\"color: #800000; text-decoration-color: #800000\">│</span> <span style=\"color: #800000; text-decoration-color: #800000\">❱ </span> 857 <span style=\"color: #7f7f7f; text-decoration-color: #7f7f7f\">│   │   │   </span><span style=\"color: #0000ff; text-decoration-color: #0000ff\">return</span> <span style=\"color: #00ffff; text-decoration-color: #00ffff\">self</span>.item().<span style=\"color: #00ff00; text-decoration-color: #00ff00\">__format__</span>(format_spec)                                    <span style=\"color: #800000; text-decoration-color: #800000\">│</span>\n",
       "<span style=\"color: #800000; text-decoration-color: #800000\">│</span>   <span style=\"color: #7f7f7f; text-decoration-color: #7f7f7f\"> 858 │   │   </span><span style=\"color: #0000ff; text-decoration-color: #0000ff\">return</span> <span style=\"color: #00ffff; text-decoration-color: #00ffff\">object</span>.<span style=\"color: #00ff00; text-decoration-color: #00ff00\">__format__</span>(<span style=\"color: #00ffff; text-decoration-color: #00ffff\">self</span>, format_spec)                                       <span style=\"color: #800000; text-decoration-color: #800000\">│</span>\n",
       "<span style=\"color: #800000; text-decoration-color: #800000\">│</span>   <span style=\"color: #7f7f7f; text-decoration-color: #7f7f7f\"> 859 │   </span>                                                                                      <span style=\"color: #800000; text-decoration-color: #800000\">│</span>\n",
       "<span style=\"color: #800000; text-decoration-color: #800000\">│</span>   <span style=\"color: #7f7f7f; text-decoration-color: #7f7f7f\"> 860 │   </span><span style=\"color: #ff00ff; text-decoration-color: #ff00ff; font-weight: bold\">@_handle_torch_function_and_wrap_type_error_to_not_implemented</span>                        <span style=\"color: #800000; text-decoration-color: #800000\">│</span>\n",
       "<span style=\"color: #800000; text-decoration-color: #800000\">╰──────────────────────────────────────────────────────────────────────────────────────────────────╯</span>\n",
       "<span style=\"color: #ff0000; text-decoration-color: #ff0000; font-weight: bold\">KeyboardInterrupt</span>\n",
       "</pre>\n"
      ],
      "text/plain": [
       "\u001b[31m╭─\u001b[0m\u001b[31m──────────────────────────────\u001b[0m\u001b[31m \u001b[0m\u001b[1;31mTraceback \u001b[0m\u001b[1;2;31m(most recent call last)\u001b[0m\u001b[31m \u001b[0m\u001b[31m───────────────────────────────\u001b[0m\u001b[31m─╮\u001b[0m\n",
       "\u001b[31m│\u001b[0m \u001b[2;33m/tmp/ipykernel_299458/\u001b[0m\u001b[1;33m2778962641.py\u001b[0m:\u001b[94m17\u001b[0m in \u001b[92m<cell line: 12>\u001b[0m                                        \u001b[31m│\u001b[0m\n",
       "\u001b[31m│\u001b[0m                                                                                                  \u001b[31m│\u001b[0m\n",
       "\u001b[31m│\u001b[0m \u001b[3;31m[Errno 2] No such file or directory: '/tmp/ipykernel_299458/2778962641.py'\u001b[0m                       \u001b[31m│\u001b[0m\n",
       "\u001b[31m│\u001b[0m                                                                                                  \u001b[31m│\u001b[0m\n",
       "\u001b[31m│\u001b[0m \u001b[2;33m/tmp/ipykernel_299458/\u001b[0m\u001b[1;33m1303677725.py\u001b[0m:\u001b[94m46\u001b[0m in \u001b[92mtrain_one_epoch\u001b[0m                                        \u001b[31m│\u001b[0m\n",
       "\u001b[31m│\u001b[0m                                                                                                  \u001b[31m│\u001b[0m\n",
       "\u001b[31m│\u001b[0m \u001b[3;31m[Errno 2] No such file or directory: '/tmp/ipykernel_299458/1303677725.py'\u001b[0m                       \u001b[31m│\u001b[0m\n",
       "\u001b[31m│\u001b[0m                                                                                                  \u001b[31m│\u001b[0m\n",
       "\u001b[31m│\u001b[0m \u001b[2;33m/home/sshah/bci-pipeline/lib/python3.8/site-packages/torch/\u001b[0m\u001b[1;33m_tensor.py\u001b[0m:\u001b[94m857\u001b[0m in \u001b[92m__format__\u001b[0m          \u001b[31m│\u001b[0m\n",
       "\u001b[31m│\u001b[0m                                                                                                  \u001b[31m│\u001b[0m\n",
       "\u001b[31m│\u001b[0m   \u001b[2m 854 \u001b[0m\u001b[2m│   │   \u001b[0m\u001b[94mif\u001b[0m has_torch_function_unary(\u001b[96mself\u001b[0m):                                                \u001b[31m│\u001b[0m\n",
       "\u001b[31m│\u001b[0m   \u001b[2m 855 \u001b[0m\u001b[2m│   │   │   \u001b[0m\u001b[94mreturn\u001b[0m handle_torch_function(Tensor.\u001b[92m__format__\u001b[0m, (\u001b[96mself\u001b[0m,), \u001b[96mself\u001b[0m, format_spec)   \u001b[31m│\u001b[0m\n",
       "\u001b[31m│\u001b[0m   \u001b[2m 856 \u001b[0m\u001b[2m│   │   \u001b[0m\u001b[94mif\u001b[0m \u001b[96mself\u001b[0m.dim() == \u001b[94m0\u001b[0m \u001b[95mand\u001b[0m \u001b[95mnot\u001b[0m \u001b[96mself\u001b[0m.is_meta \u001b[95mand\u001b[0m \u001b[96mtype\u001b[0m(\u001b[96mself\u001b[0m) \u001b[95mis\u001b[0m Tensor:                 \u001b[31m│\u001b[0m\n",
       "\u001b[31m│\u001b[0m \u001b[31m❱ \u001b[0m 857 \u001b[2m│   │   │   \u001b[0m\u001b[94mreturn\u001b[0m \u001b[96mself\u001b[0m.item().\u001b[92m__format__\u001b[0m(format_spec)                                    \u001b[31m│\u001b[0m\n",
       "\u001b[31m│\u001b[0m   \u001b[2m 858 \u001b[0m\u001b[2m│   │   \u001b[0m\u001b[94mreturn\u001b[0m \u001b[96mobject\u001b[0m.\u001b[92m__format__\u001b[0m(\u001b[96mself\u001b[0m, format_spec)                                       \u001b[31m│\u001b[0m\n",
       "\u001b[31m│\u001b[0m   \u001b[2m 859 \u001b[0m\u001b[2m│   \u001b[0m                                                                                      \u001b[31m│\u001b[0m\n",
       "\u001b[31m│\u001b[0m   \u001b[2m 860 \u001b[0m\u001b[2m│   \u001b[0m\u001b[1;95m@_handle_torch_function_and_wrap_type_error_to_not_implemented\u001b[0m                        \u001b[31m│\u001b[0m\n",
       "\u001b[31m╰──────────────────────────────────────────────────────────────────────────────────────────────────╯\u001b[0m\n",
       "\u001b[1;91mKeyboardInterrupt\u001b[0m\n"
      ]
     },
     "metadata": {},
     "output_type": "display_data"
    }
   ],
   "source": [
    "from tqdm import tqdm, notebook\n",
    "from time import sleep\n",
    "\n",
    "# timestamp = datetime.now().strftime('%Y%m%d_%H%M%S')\n",
    "# writer = SummaryWriter('runs/fashion_trainer_{}'.format(timestamp))\n",
    "epoch_number = 0\n",
    "\n",
    "EPOCHS = 5\n",
    "\n",
    "best_vloss = 1_000_000.\n",
    "\n",
    "for epoch in range(EPOCHS):\n",
    "    print('\\rEPOCH {}:'.format(epoch_number + 1))\n",
    "\n",
    "    # Make sure gradient tracking is on, and do a pass over the data\n",
    "    model.train(True)\n",
    "    avg_loss = train_one_epoch(epoch_number)\n",
    "\n",
    "    # We don't need gradients on to do reporting\n",
    "    model.train(False)\n",
    "\n",
    "#     running_vloss = 0.0\n",
    "#     for i, vdata in enumerate(validation_loader):\n",
    "#         vinputs, vlabels = vdata\n",
    "#         voutputs = model(vinputs)\n",
    "#         vloss = loss_fn(voutputs, vlabels)\n",
    "#         running_vloss += vloss\n",
    "\n",
    "#     avg_vloss = running_vloss / (i + 1)\n",
    "#     print('LOSS train {} valid {}'.format(avg_loss, avg_vloss))\n",
    "\n",
    "    # Log the running loss averaged per batch\n",
    "    # for both training and validation\n",
    "    # writer.add_scalars('Training vs. Validation Loss',\n",
    "    #                 { 'Training' : avg_loss, 'Validation' : avg_vloss },\n",
    "    #                 epoch_number + 1)\n",
    "    # writer.flush()\n",
    "\n",
    "    # Track best performance, and save the model's state\n",
    "    # if avg_vloss < best_vloss:\n",
    "    #     best_vloss = avg_vloss\n",
    "    #     model_path = 'model_{}_{}'.format(timestamp, epoch_number)\n",
    "    #     torch.save(model.state_dict(), model_path)\n",
    "\n",
    "    epoch_number += 1"
   ]
  },
  {
   "cell_type": "code",
   "execution_count": 49,
   "id": "5b4d2690-9ac0-4779-9a0d-0200660fd239",
   "metadata": {},
   "outputs": [
    {
     "data": {
      "application/vnd.jupyter.widget-view+json": {
       "model_id": "8f7a40a0a6ae4a058647ebef72bf013f",
       "version_major": 2,
       "version_minor": 0
      },
      "text/plain": [
       "Training Loop:   0%|          | 0/2 [00:00<?, ?it/s]"
      ]
     },
     "metadata": {},
     "output_type": "display_data"
    },
    {
     "name": "stdout",
     "output_type": "stream",
     "text": [
      "Done task 1 1Done task 1 1"
     ]
    }
   ],
   "source": [
    "import sys\n",
    "\n",
    "for idx, i in enumerate(notebook.tqdm(range(2), desc='Training Loop')):\n",
    "    sleep(1)\n",
    "    # tqdm.write(f\"\\rDone task {i}\")\n",
    "    sys.stdout.write(f\"\\rDone task {idx} {i}\")\n",
    "    sys.stdout.write(f\"Done task {idx} {i}\")\n",
    "    sys.stdout.flush()"
   ]
  },
  {
   "cell_type": "code",
   "execution_count": 154,
   "id": "f80cace5-1afa-4bca-8608-37e994fa5901",
   "metadata": {},
   "outputs": [
    {
     "data": {
      "text/html": [
       "<pre style=\"white-space:pre;overflow-x:auto;line-height:normal;font-family:Menlo,'DejaVu Sans Mono',consolas,'Courier New',monospace\"><span style=\"color: #008080; text-decoration-color: #008080; font-weight: bold\">300</span>\n",
       "</pre>\n"
      ],
      "text/plain": [
       "\u001b[1;36m300\u001b[0m\n"
      ]
     },
     "metadata": {},
     "output_type": "display_data"
    }
   ],
   "source": [
    "len(training_loader)"
   ]
  },
  {
   "cell_type": "code",
   "execution_count": 149,
   "id": "10005c78-ea72-49ca-8c1d-feec9b830ef7",
   "metadata": {},
   "outputs": [
    {
     "name": "stdout",
     "output_type": "stream",
     "text": [
      "9"
     ]
    }
   ],
   "source": [
    "import sys\n",
    "import time\n",
    "\n",
    "for f in range(10):\n",
    "    #delete \"\\r\" to append instead of overwrite\n",
    "    sys.stdout.write(\"\\r\" + str(f))\n",
    "    sys.stdout.flush()\n",
    "    time.sleep(1)"
   ]
  },
  {
   "cell_type": "code",
   "execution_count": null,
   "id": "3bf463e6-5b59-4a00-aebe-4b324cf0130d",
   "metadata": {},
   "outputs": [],
   "source": [
    "torch.from_numpy()"
   ]
  },
  {
   "cell_type": "code",
   "execution_count": 278,
   "id": "18d82f31-b0b4-45f1-bb16-2fbc934ec965",
   "metadata": {},
   "outputs": [
    {
     "data": {
      "text/html": [
       "<pre style=\"white-space:pre;overflow-x:auto;line-height:normal;font-family:Menlo,'DejaVu Sans Mono',consolas,'Courier New',monospace\"><span style=\"color: #008000; text-decoration-color: #008000\">'torch.LongTensor'</span>\n",
       "</pre>\n"
      ],
      "text/plain": [
       "\u001b[32m'torch.LongTensor'\u001b[0m\n"
      ]
     },
     "metadata": {},
     "output_type": "display_data"
    }
   ],
   "source": [
    "model.conv1.weight.long().type()"
   ]
  },
  {
   "cell_type": "code",
   "execution_count": 189,
   "id": "a886c563-1b7f-45d3-a163-2cafb4e9dcd6",
   "metadata": {},
   "outputs": [
    {
     "name": "stdout",
     "output_type": "stream",
     "text": [
      "Training set has 60000 instances\n",
      "Validation set has 10000 instances\n"
     ]
    }
   ],
   "source": [
    "import torch\n",
    "import torchvision\n",
    "import torchvision.transforms as transforms\n",
    "\n",
    "# PyTorch TensorBoard support\n",
    "# from torch.utils.tensorboard import SummaryWriter\n",
    "from datetime import datetime\n",
    "\n",
    "\n",
    "transform = transforms.Compose(\n",
    "    [transforms.ToTensor(),\n",
    "    transforms.Normalize((0.5,), (0.5,))])\n",
    "\n",
    "# Create datasets for training & validation, download if necessary\n",
    "training_set = torchvision.datasets.FashionMNIST('./data', train=True, transform=transform, download=True)\n",
    "validation_set = torchvision.datasets.FashionMNIST('./data', train=False, transform=transform, download=True)\n",
    "\n",
    "# Create data loaders for our datasets; shuffle for training, not for validation\n",
    "training_loader = torch.utils.data.DataLoader(training_set, batch_size=4, shuffle=True, num_workers=2)\n",
    "validation_loader = torch.utils.data.DataLoader(validation_set, batch_size=4, shuffle=False, num_workers=2)\n",
    "\n",
    "# Class labels\n",
    "classes = ('T-shirt/top', 'Trouser', 'Pullover', 'Dress', 'Coat',\n",
    "        'Sandal', 'Shirt', 'Sneaker', 'Bag', 'Ankle Boot')\n",
    "\n",
    "# Report split sizes\n",
    "print('Training set has {} instances'.format(len(training_set)))\n",
    "print('Validation set has {} instances'.format(len(validation_set)))"
   ]
  },
  {
   "cell_type": "code",
   "execution_count": 190,
   "id": "92f0ab37-f36a-40b5-b1c2-f103893d37f1",
   "metadata": {},
   "outputs": [
    {
     "name": "stdout",
     "output_type": "stream",
     "text": [
      "Dress  T-shirt/top  Coat  T-shirt/top\n"
     ]
    },
    {
     "data": {
      "image/png": "[encoded data removed]"
     },
     "metadata": {},
     "output_type": "display_data"
    }
   ],
   "source": [
    "import matplotlib.pyplot as plt\n",
    "import numpy as np\n",
    "\n",
    "# Helper function for inline image display\n",
    "def matplotlib_imshow(img, one_channel=False):\n",
    "    if one_channel:\n",
    "        img = img.mean(dim=0)\n",
    "    img = img / 2 + 0.5     # unnormalize\n",
    "    npimg = img.numpy()\n",
    "    if one_channel:\n",
    "        plt.imshow(npimg, cmap=\"Greys\")\n",
    "    else:\n",
    "        plt.imshow(np.transpose(npimg, (1, 2, 0)))\n",
    "\n",
    "dataiter = iter(training_loader)\n",
    "images, labels = next(dataiter)\n",
    "\n",
    "# Create a grid from the images and show them\n",
    "img_grid = torchvision.utils.make_grid(images)\n",
    "matplotlib_imshow(img_grid, one_channel=True)\n",
    "print('  '.join(classes[labels[j]] for j in range(4)))"
   ]
  },
  {
   "cell_type": "code",
   "execution_count": 194,
   "id": "2851c9b4-cce1-4e0f-aa23-e328583587d8",
   "metadata": {},
   "outputs": [
    {
     "data": {
      "text/html": [
       "<pre style=\"white-space:pre;overflow-x:auto;line-height:normal;font-family:Menlo,'DejaVu Sans Mono',consolas,'Courier New',monospace\"><span style=\"color: #008000; text-decoration-color: #008000\">'torch.FloatTensor'</span>\n",
       "</pre>\n"
      ],
      "text/plain": [
       "\u001b[32m'torch.FloatTensor'\u001b[0m\n"
      ]
     },
     "metadata": {},
     "output_type": "display_data"
    }
   ],
   "source": [
    "labels.type(torch.float).type()"
   ]
  },
  {
   "cell_type": "code",
   "execution_count": 121,
   "id": "7b967e47-1fdf-4aea-b29a-c5d380bffcb4",
   "metadata": {},
   "outputs": [
    {
     "data": {
      "text/html": [
       "<pre style=\"white-space:pre;overflow-x:auto;line-height:normal;font-family:Menlo,'DejaVu Sans Mono',consolas,'Courier New',monospace\"><span style=\"color: #800080; text-decoration-color: #800080; font-weight: bold\">tensor</span><span style=\"font-weight: bold\">([</span><span style=\"color: #008080; text-decoration-color: #008080; font-weight: bold\">1</span>, <span style=\"color: #008080; text-decoration-color: #008080; font-weight: bold\">2</span>, <span style=\"color: #008080; text-decoration-color: #008080; font-weight: bold\">3</span><span style=\"font-weight: bold\">])</span>\n",
       "</pre>\n"
      ],
      "text/plain": [
       "\u001b[1;35mtensor\u001b[0m\u001b[1m(\u001b[0m\u001b[1m[\u001b[0m\u001b[1;36m1\u001b[0m, \u001b[1;36m2\u001b[0m, \u001b[1;36m3\u001b[0m\u001b[1m]\u001b[0m\u001b[1m)\u001b[0m\n"
      ]
     },
     "metadata": {},
     "output_type": "display_data"
    }
   ],
   "source": [
    "torch.tensor([1,2,3])"
   ]
  },
  {
   "cell_type": "code",
   "execution_count": null,
   "id": "b67b21d5-4b59-4f38-b4d3-de6fdf0ce2a5",
   "metadata": {},
   "outputs": [],
   "source": []
  }
 ],
 "metadata": {
  "kernelspec": {
   "display_name": "Kedro (decoding_pipeline)",
   "language": "python",
   "name": "kedro_decoding_pipeline"
  },
  "language_info": {
   "codemirror_mode": {
    "name": "ipython",
    "version": 3
   },
   "file_extension": ".py",
   "mimetype": "text/x-python",
   "name": "python",
   "nbconvert_exporter": "python",
   "pygments_lexer": "ipython3",
   "version": "3.8.10"
  }
 },
 "nbformat": 4,
 "nbformat_minor": 5
}
